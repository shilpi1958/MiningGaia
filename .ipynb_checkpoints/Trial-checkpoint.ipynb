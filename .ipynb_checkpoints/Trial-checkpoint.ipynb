{
 "cells": [
  {
   "cell_type": "code",
   "execution_count": 1,
   "metadata": {},
   "outputs": [
    {
     "name": "stderr",
     "output_type": "stream",
     "text": [
      "WARNING: AstropyDeprecationWarning: astropy.extern.six will be removed in 4.0, use the six module directly if it is still needed [astropy.extern.six]\n"
     ]
    },
    {
     "name": "stdout",
     "output_type": "stream",
     "text": [
      "Created TAP+ (v1.0.1) - Connection:\n",
      "\tHost: gea.esac.esa.int\n",
      "\tUse HTTPS: False\n",
      "\tPort: 80\n",
      "\tSSL Port: 443\n"
     ]
    }
   ],
   "source": [
    "import sklearn.cluster\n",
    "import numpy as np\n",
    "from astroquery.gaia import Gaia\n",
    "from astropy.io import fits\n",
    "from astropy.table import Table\n",
    "import matplotlib.pyplot as plt\n",
    "\n",
    "t = Table.read('tst.hdf', format='hdf5')\n"
   ]
  },
  {
   "cell_type": "code",
   "execution_count": 8,
   "metadata": {},
   "outputs": [],
   "source": [
    "X = np.array([t['ra'], t['dec'], t['parallax'], t['pmra'], t['pmdec'], t['ra_parallax_corr'], t['dec_parallax_corr'] ])\n",
    "Xnew = np.transpose(X)\n",
    "#Xnew = Xcut[:10000]"
   ]
  },
  {
   "cell_type": "code",
   "execution_count": null,
   "metadata": {},
   "outputs": [],
   "source": [
    "from sklearn.mixture import GaussianMixture\n",
    "import pandas as pd\n",
    "\n",
    "gmm = GaussianMixture(n_components=12).fit(Xnew)\n",
    "labels = gmm.predict(Xnew)\n",
    "\n",
    "df = pd.read_csv('clusters.csv')\n",
    "saved_x= df.RA\n",
    "saved_y= df.DEC\n",
    "\n",
    "plt.scatter(Xnew[:, 0], Xnew[:, 1], c=labels, s=12, cmap='viridis')\n",
    "plt.scatter(saved_x , saved_y, s=36, marker='^', zorder=0, color= 'red')\n",
    "plt.show()"
   ]
  },
  {
   "cell_type": "code",
   "execution_count": null,
   "metadata": {
    "scrolled": true
   },
   "outputs": [],
   "source": [
    "labels_1 = gmm.fit_predict(Xnew)\n",
    "plt.scatter(Xnew[:, 0], Xnew[:, 1], c=labels_1, s=30, cmap='viridis')\n"
   ]
  },
  {
   "cell_type": "code",
   "execution_count": 11,
   "metadata": {},
   "outputs": [
    {
     "name": "stdout",
     "output_type": "stream",
     "text": [
      "{'covariance_type': 'full', 'init_params': 'kmeans', 'max_iter': 100, 'means_init': None, 'n_components': 12, 'n_init': 1, 'precisions_init': None, 'random_state': None, 'reg_covar': 1e-06, 'tol': 0.001, 'verbose': 0, 'verbose_interval': 10, 'warm_start': False, 'weights_init': None}\n"
     ]
    }
   ],
   "source": [
    "labels_2 = gmm.get_params(deep=True)\n",
    "print (labels_2)"
   ]
  },
  {
   "cell_type": "code",
   "execution_count": 12,
   "metadata": {},
   "outputs": [
    {
     "name": "stdout",
     "output_type": "stream",
     "text": [
      "[[9.77211709e-01 1.24832466e-03 8.79642682e-03 ... 2.58542957e-04\n",
      "  2.72028218e-03 2.96343830e-03]\n",
      " [1.79918641e-04 3.14431306e-23 5.09977827e-05 ... 2.34595081e-09\n",
      "  7.51087764e-02 8.62507543e-01]\n",
      " [7.29040842e-01 4.46419533e-06 1.38130188e-01 ... 4.07768103e-04\n",
      "  2.37145232e-02 1.01729216e-01]\n",
      " ...\n",
      " [9.58404261e-01 5.51394064e-05 1.28357170e-02 ... 7.95987517e-05\n",
      "  5.38356815e-03 3.38667689e-03]\n",
      " [9.45168433e-01 4.31350902e-03 4.03575665e-02 ... 7.26358735e-04\n",
      "  1.45040997e-03 5.97209312e-03]\n",
      " [9.63449229e-01 1.74946303e-02 1.12732616e-02 ... 6.49620689e-04\n",
      "  1.32418615e-03 2.54760213e-03]]\n"
     ]
    }
   ],
   "source": [
    "labels_3 = gmm.predict_proba(Xnew)\n",
    "print (labels_3)"
   ]
  },
  {
   "cell_type": "code",
   "execution_count": 13,
   "metadata": {},
   "outputs": [
    {
     "data": {
      "text/html": [
       "<div>\n",
       "<style scoped>\n",
       "    .dataframe tbody tr th:only-of-type {\n",
       "        vertical-align: middle;\n",
       "    }\n",
       "\n",
       "    .dataframe tbody tr th {\n",
       "        vertical-align: top;\n",
       "    }\n",
       "\n",
       "    .dataframe thead th {\n",
       "        text-align: right;\n",
       "    }\n",
       "</style>\n",
       "<table border=\"1\" class=\"dataframe\">\n",
       "  <thead>\n",
       "    <tr style=\"text-align: right;\">\n",
       "      <th></th>\n",
       "      <th>Cluster</th>\n",
       "      <th>RA</th>\n",
       "      <th>DEC</th>\n",
       "    </tr>\n",
       "  </thead>\n",
       "  <tbody>\n",
       "    <tr>\n",
       "      <th>0</th>\n",
       "      <td>Collinder_469</td>\n",
       "      <td>274.143</td>\n",
       "      <td>-18.309</td>\n",
       "    </tr>\n",
       "    <tr>\n",
       "      <th>1</th>\n",
       "      <td>Dias_5</td>\n",
       "      <td>274.385</td>\n",
       "      <td>-19.707</td>\n",
       "    </tr>\n",
       "    <tr>\n",
       "      <th>2</th>\n",
       "      <td>Gulliver_15</td>\n",
       "      <td>272.599</td>\n",
       "      <td>-16.723</td>\n",
       "    </tr>\n",
       "    <tr>\n",
       "      <th>3</th>\n",
       "      <td>Markarian_38</td>\n",
       "      <td>273.819</td>\n",
       "      <td>-18.997</td>\n",
       "    </tr>\n",
       "    <tr>\n",
       "      <th>4</th>\n",
       "      <td>NGC_6494</td>\n",
       "      <td>269.237</td>\n",
       "      <td>-18.987</td>\n",
       "    </tr>\n",
       "  </tbody>\n",
       "</table>\n",
       "</div>"
      ],
      "text/plain": [
       "         Cluster        RA     DEC\n",
       "0  Collinder_469   274.143 -18.309\n",
       "1       Dias_5     274.385 -19.707\n",
       "2    Gulliver_15   272.599 -16.723\n",
       "3    Markarian_38  273.819 -18.997\n",
       "4      NGC_6494    269.237 -18.987"
      ]
     },
     "execution_count": 13,
     "metadata": {},
     "output_type": "execute_result"
    }
   ],
   "source": [
    "import pandas as pd\n",
    "df = pd.read_csv('clusters.csv')\n",
    "df.head()"
   ]
  },
  {
   "cell_type": "code",
   "execution_count": 14,
   "metadata": {},
   "outputs": [
    {
     "data": {
      "text/plain": [
       "<matplotlib.axes._subplots.AxesSubplot at 0x2a880c8ea20>"
      ]
     },
     "execution_count": 14,
     "metadata": {},
     "output_type": "execute_result"
    },
    {
     "data": {
      "image/png": "[encoded data removed]",
      "text/plain": [
       "<Figure size 432x288 with 1 Axes>"
      ]
     },
     "metadata": {
      "needs_background": "light"
     },
     "output_type": "display_data"
    }
   ],
   "source": [
    "import pandas as pd\n",
    "import plotly.express as px\n",
    "df.plot(kind='scatter', x='RA', y='DEC', color='red')"
   ]
  },
  {
   "cell_type": "code",
   "execution_count": null,
   "metadata": {},
   "outputs": [],
   "source": []
  },
  {
   "cell_type": "code",
   "execution_count": 15,
   "metadata": {},
   "outputs": [
    {
     "data": {
      "text/plain": [
       "<matplotlib.collections.PathCollection at 0x2a880d56eb8>"
      ]
     },
     "execution_count": 15,
     "metadata": {},
     "output_type": "execute_result"
    },
    {
     "data": {
      "image/png": "[encoded data removed]",
      "text/plain": [
       "<Figure size 432x288 with 1 Axes>"
      ]
     },
     "metadata": {
      "needs_background": "light"
     },
     "output_type": "display_data"
    }
   ],
   "source": [
    "import pandas as pd\n",
    "df = pd.read_csv('clusters.csv')\n",
    "saved_x= df.RA\n",
    "saved_y= df.DEC\n",
    "plt.scatter(saved_x , saved_y)"
   ]
  },
  {
   "cell_type": "code",
   "execution_count": null,
   "metadata": {},
   "outputs": [],
   "source": []
  },
  {
   "cell_type": "code",
   "execution_count": null,
   "metadata": {},
   "outputs": [],
   "source": []
  },
  {
   "cell_type": "code",
   "execution_count": null,
   "metadata": {},
   "outputs": [],
   "source": []
  }
 ],
 "metadata": {
  "kernelspec": {
   "display_name": "Python 3",
   "language": "python",
   "name": "python3"
  },
  "language_info": {
   "codemirror_mode": {
    "name": "ipython",
    "version": 3
   },
   "file_extension": ".py",
   "mimetype": "text/x-python",
   "name": "python",
   "nbconvert_exporter": "python",
   "pygments_lexer": "ipython3",
   "version": "3.7.3"
  }
 },
 "nbformat": 4,
 "nbformat_minor": 2
}
